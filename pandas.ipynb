{
 "cells": [
  {
   "cell_type": "code",
   "execution_count": 2,
   "metadata": {},
   "outputs": [
    {
     "name": "stdout",
     "output_type": "stream",
     "text": [
      "50.986666666666665\n",
      "99\n",
      "1\n",
      "mode: 0    32\n",
      "dtype: int32\n",
      "29.0\n",
      "unique: [51  9 77  4 75 73 76 31 80 13 68 90 43 28 32  5  7 74 34  6 61 30 60  3\n",
      " 84 53 97 17 26 16 64 35 47 42 65 86 58 52 20 70 40 85 46 92 82 99 15 96\n",
      " 49 69 62  1 83 63 27]\n",
      "frequency= <generator object <genexpr> at 0x00000204B24DCE10>\n"
     ]
    }
   ],
   "source": [
    "import numpy as np\n",
    "import pandas as pd\n",
    "s = pd.Series(np.random.randint(low=1, high=100, size=75))\n",
    "\n",
    "print(s.mean())\n",
    "print(s.max())\n",
    "print(s.min())\n",
    "print( F'mode: {s.mode()}')\n",
    "print(s.quantile(.25))\n",
    "print(f\"unique: {s.unique()}\")\n",
    "print(f\"frequency= {i  for i in s.value_counts()}\" )\n"
   ]
  },
  {
   "cell_type": "code",
   "execution_count": 3,
   "metadata": {},
   "outputs": [],
   "source": [
    "import pandas as pd\n",
    "s = pd.Series(['01 Jan 2022', '10-02-2016', '20180307', '2019/05/06', '2020-04-12', '2021-04-06T11:20'], dtype=date)\n",
    "\n"
   ]
  },
  {
   "cell_type": "code",
   "execution_count": 4,
   "metadata": {},
   "outputs": [],
   "source": [
    "test_data = {\n",
    "    'name': ['Mike', 'Paul', 'Dave', 'Jenny', 'Ewan', 'Bob', 'Nic', 'Graham', 'Charlie', 'Mark'],\n",
    "    'score': [12.5, 9, 16.5, np.nan, 9, 20, 14.5, np.nan, 8, 19],\n",
    "    'attempts': [1, 3, 2, 3, 2, 3, 1, 1, 2, 1],\n",
    "    'qualify': ['yes', 'no', 'yes', 'no', 'no', 'yes', 'yes', 'no', 'no', 'yes']\n",
    "}\n",
    "labels = ['a', 'b', 'c', 'd', 'e', 'f', 'g', 'h', 'i', 'j']\n",
    "\n"
   ]
  },
  {
   "cell_type": "code",
   "execution_count": 22,
   "metadata": {},
   "outputs": [
    {
     "name": "stdout",
     "output_type": "stream",
     "text": [
      "   name  score  attempts qualify\n",
      "a  Mike   12.5         1     yes\n",
      "b  Paul    9.0         3      no\n",
      "c  Dave   16.5         2     yes\n",
      "(10, 4)\n",
      "Index(['name', 'score', 'attempts', 'qualify'], dtype='object')\n",
      "      name qualify\n",
      "a     Mike     yes\n",
      "b     Paul      no\n",
      "c     Dave     yes\n",
      "d    Jenny      no\n",
      "e     Ewan      no\n",
      "f      Bob     yes\n",
      "g      Nic     yes\n",
      "h   Graham      no\n",
      "i  Charlie      no\n",
      "j     Mark     yes\n",
      "      name  score  attempts qualify\n",
      "b     Paul    9.0         3      no\n",
      "c     Dave   16.5         2     yes\n",
      "d    Jenny    NaN         3      no\n",
      "e     Ewan    9.0         2      no\n",
      "f      Bob   20.0         3     yes\n",
      "i  Charlie    8.0         2      no\n"
     ]
    }
   ],
   "source": [
    "import pandas as pd\n",
    "\n",
    "df1 = pd.DataFrame(test_data,labels)\n",
    "\n",
    "#print(df1)\n",
    "\n",
    "\n",
    "print(df1.head(3))\n",
    "\n",
    "print(df1.shape)\n",
    "\n",
    "print(df1.columns)\n",
    "\n",
    "print(df1[['name', 'qualify']])\n",
    "\n",
    "print(df1[df1['attempts']>1])\n"
   ]
  },
  {
   "cell_type": "code",
   "execution_count": 28,
   "metadata": {},
   "outputs": [
    {
     "name": "stdout",
     "output_type": "stream",
     "text": [
      "   col1  col2  col3\n",
      "0     1     2     3\n",
      "1     4     5     6\n",
      "2     7     8     9\n"
     ]
    }
   ],
   "source": [
    "from pandas import DataFrame\n",
    "\n",
    "test_data2 = {\n",
    "    'col1': [1,4,7],\n",
    "    'col2': [2,5,8],\n",
    "    'col3': [3,6,9]\n",
    "}\n",
    "df1 = pd.DataFrame(test_data2)\n",
    "\n",
    "df1['col1'].name='foo'\n",
    "df1['col2'].name='bar'\n",
    "df1['col3'].name='baz'\n",
    "\n",
    "print(df1)"
   ]
  }
 ],
 "metadata": {
  "kernelspec": {
   "display_name": "Python 3",
   "language": "python",
   "name": "python3"
  },
  "language_info": {
   "codemirror_mode": {
    "name": "ipython",
    "version": 3
   },
   "file_extension": ".py",
   "mimetype": "text/x-python",
   "name": "python",
   "nbconvert_exporter": "python",
   "pygments_lexer": "ipython3",
   "version": "3.11.2"
  }
 },
 "nbformat": 4,
 "nbformat_minor": 2
}
