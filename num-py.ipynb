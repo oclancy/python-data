{
 "cells": [
  {
   "cell_type": "code",
   "execution_count": 10,
   "metadata": {},
   "outputs": [
    {
     "name": "stdout",
     "output_type": "stream",
     "text": [
      "3.11.2 (tags/v3.11.2:878ead1, Feb  7 2023, 16:38:35) [MSC v.1934 64 bit (AMD64)]\n",
      "c:\\Users\\OliverClancy\\AppData\\Local\\Programs\\Python\\Python311\n"
     ]
    }
   ],
   "source": [
    "import sys\n",
    "print(sys.version)\n",
    "print(sys.prefix)"
   ]
  },
  {
   "cell_type": "code",
   "execution_count": 87,
   "metadata": {},
   "outputs": [],
   "source": [
    "import numpy as np\n",
    "import csv\n",
    "\n",
    "with open('AAPL-2017.csv', newline='') as f:\n",
    "    reader = csv.DictReader(f)\n",
    "    prices2017 = np.empty((0,6), dtype=np.double)\n",
    "    for row in reader:\n",
    "        data = np.array([[row['Open'], row['High'], row['Low'], row['Close'], row['Adj Close'], row['Volume']]], dtype=np.double)\n",
    "        prices2017 = np.append(prices2017, data,axis=0)\n",
    "\n",
    "with open('AAPL-2016.csv', newline='') as f:\n",
    "    reader = csv.DictReader(f)\n",
    "    prices2016 = np.empty((0,6), dtype=np.double)\n",
    "    for row in reader:\n",
    "        data = np.array([[row['Open'], row['High'], row['Low'],  row['Close'],row['Adj Close'], row['Volume']]], dtype=np.double)\n",
    "        prices2016 = np.append(prices2016, data,axis=0)\n",
    "\n"
   ]
  },
  {
   "cell_type": "code",
   "execution_count": 65,
   "metadata": {},
   "outputs": [],
   "source": [
    "\n",
    "type(prices2016[0])\n",
    "np.set_printoptions(formatter={'float': '{: 6.2f}'.format})\n"
   ]
  },
  {
   "cell_type": "code",
   "execution_count": 77,
   "metadata": {},
   "outputs": [
    {
     "name": "stdout",
     "output_type": "stream",
     "text": [
      "<class 'numpy.ndarray'>\n",
      "<class 'numpy.ndarray'>\n",
      "[ 11488.29  11498.99  11454.06  11491.43  11758.32 -2850453900.00]\n"
     ]
    }
   ],
   "source": [
    "sum2016 = prices2016.sum(axis=0, dtype=np.double)\n",
    "sum2017 = prices2017[:-1].sum(axis=0, dtype=np.double)\n",
    "change = sum2017 - sum2016\n",
    "print (type(sum2016))\n",
    "print(type(change))\n",
    "print(change)\n"
   ]
  },
  {
   "cell_type": "code",
   "execution_count": 78,
   "metadata": {},
   "outputs": [
    {
     "ename": "UFuncTypeError",
     "evalue": "ufunc 'subtract' did not contain a loop with signature matching types (dtype('<U32'), dtype('<U32')) -> None",
     "output_type": "error",
     "traceback": [
      "\u001b[1;31m---------------------------------------------------------------------------\u001b[0m",
      "\u001b[1;31mUFuncTypeError\u001b[0m                            Traceback (most recent call last)",
      "Cell \u001b[1;32mIn[78], line 1\u001b[0m\n\u001b[1;32m----> 1\u001b[0m \u001b[38;5;28mprint\u001b[39m(\u001b[43mprices2017\u001b[49m\u001b[43m[\u001b[49m\u001b[43m:\u001b[49m\u001b[38;5;241;43m-\u001b[39;49m\u001b[38;5;241;43m1\u001b[39;49m\u001b[43m]\u001b[49m\u001b[38;5;241;43m-\u001b[39;49m\u001b[43mprices2016\u001b[49m)\n",
      "\u001b[1;31mUFuncTypeError\u001b[0m: ufunc 'subtract' did not contain a loop with signature matching types (dtype('<U32'), dtype('<U32')) -> None"
     ]
    }
   ],
   "source": [
    "print(prices2017[:-1]-prices2016)"
   ]
  },
  {
   "cell_type": "code",
   "execution_count": 89,
   "metadata": {},
   "outputs": [
    {
     "name": "stdout",
     "output_type": "stream",
     "text": [
      "<class 'numpy.float64'>\n"
     ]
    },
    {
     "data": {
      "text/plain": [
       "array([ 63864.53,  64336.26,  63419.52,  63915.98,  62276.48,\n",
       "        16445421900.00])"
      ]
     },
     "execution_count": 89,
     "metadata": {},
     "output_type": "execute_result"
    }
   ],
   "source": [
    "combined_years = np.concatenate([prices2016,prices2017])\n",
    "print(type(combined_years[0][0]))\n",
    "combined_years.sum(axis=0, dtype=np.double)"
   ]
  },
  {
   "cell_type": "code",
   "execution_count": null,
   "metadata": {},
   "outputs": [],
   "source": [
    "np.set_printoptions(formatter={'float': '{: 6.2f}'.format})\n",
    "np.savetxt(\"combined_years.csv\",combined_years)\n",
    "\n",
    "np.set_printoptions()"
   ]
  },
  {
   "cell_type": "code",
   "execution_count": 90,
   "metadata": {},
   "outputs": [
    {
     "name": "stdout",
     "output_type": "stream",
     "text": [
      "[[ 102.61  105.35]\n",
      " [ 105.75  102.71]\n",
      " [ 100.56  100.70]\n",
      " [ 98.68  96.45]\n",
      " [ 98.55  96.96]]\n",
      "[[ 123.13  136.95]\n",
      " [ 126.90  133.52]\n",
      " [ 120.67  130.91]\n",
      " [ 118.42  125.38]\n",
      " [ 118.26  126.05]]\n"
     ]
    }
   ],
   "source": [
    "projection = combined_years[:, [0, 3]]\n",
    "print(projection[:5])\n",
    "result = projection[:5] * [[1.2,1.3]]\n",
    "\n",
    "print(result[:5])"
   ]
  }
 ],
 "metadata": {
  "kernelspec": {
   "display_name": "Python 3",
   "language": "python",
   "name": "python3"
  },
  "language_info": {
   "codemirror_mode": {
    "name": "ipython",
    "version": 3
   },
   "file_extension": ".py",
   "mimetype": "text/x-python",
   "name": "python",
   "nbconvert_exporter": "python",
   "pygments_lexer": "ipython3",
   "version": "3.11.2"
  }
 },
 "nbformat": 4,
 "nbformat_minor": 2
}
